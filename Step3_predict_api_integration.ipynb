{
 "cells": [
  {
   "cell_type": "code",
   "execution_count": 1,
   "metadata": {
    "id": "_NMVLshSdkwP",
    "outputId": "1717a226-3544-4e17-d8fb-996f9bb71e9b"
   },
   "outputs": [],
   "source": [
    "import pandas as pd\n",
    "from sklearn.metrics import roc_auc_score,roc_curve\n",
    "from urllib import request, parse\n",
    "\n",
    "X_test = pd.read_csv(\"X_test.csv\")\n",
    "y_test = pd.read_csv(\"y_test.csv\")"
   ]
  },
  {
   "cell_type": "code",
   "execution_count": 2,
   "metadata": {
    "id": "xSpPFKsZdkwS",
    "outputId": "8b32d04c-7aab-4fd5-bb98-52a0a8accd73"
   },
   "outputs": [
    {
     "data": {
      "text/html": [
       "<div>\n",
       "<style scoped>\n",
       "    .dataframe tbody tr th:only-of-type {\n",
       "        vertical-align: middle;\n",
       "    }\n",
       "\n",
       "    .dataframe tbody tr th {\n",
       "        vertical-align: top;\n",
       "    }\n",
       "\n",
       "    .dataframe thead th {\n",
       "        text-align: right;\n",
       "    }\n",
       "</style>\n",
       "<table border=\"1\" class=\"dataframe\">\n",
       "  <thead>\n",
       "    <tr style=\"text-align: right;\">\n",
       "      <th></th>\n",
       "      <th>ph</th>\n",
       "      <th>Hardness</th>\n",
       "      <th>Solids</th>\n",
       "      <th>Chloramines</th>\n",
       "      <th>Sulfate</th>\n",
       "      <th>Conductivity</th>\n",
       "      <th>Organic_carbon</th>\n",
       "      <th>Trihalomethanes</th>\n",
       "      <th>Turbidity</th>\n",
       "    </tr>\n",
       "  </thead>\n",
       "  <tbody>\n",
       "    <tr>\n",
       "      <th>0</th>\n",
       "      <td>7.036752</td>\n",
       "      <td>183.521107</td>\n",
       "      <td>20461.252710</td>\n",
       "      <td>7.333212</td>\n",
       "      <td>333.119476</td>\n",
       "      <td>356.369022</td>\n",
       "      <td>20.179029</td>\n",
       "      <td>67.019903</td>\n",
       "      <td>4.886634</td>\n",
       "    </tr>\n",
       "    <tr>\n",
       "      <th>1</th>\n",
       "      <td>6.643159</td>\n",
       "      <td>188.913541</td>\n",
       "      <td>32873.820022</td>\n",
       "      <td>6.791509</td>\n",
       "      <td>333.848842</td>\n",
       "      <td>336.561501</td>\n",
       "      <td>14.706810</td>\n",
       "      <td>67.844849</td>\n",
       "      <td>4.562198</td>\n",
       "    </tr>\n",
       "    <tr>\n",
       "      <th>2</th>\n",
       "      <td>7.846058</td>\n",
       "      <td>224.058877</td>\n",
       "      <td>23264.109968</td>\n",
       "      <td>5.922367</td>\n",
       "      <td>300.402620</td>\n",
       "      <td>387.971336</td>\n",
       "      <td>13.406737</td>\n",
       "      <td>43.075186</td>\n",
       "      <td>2.487969</td>\n",
       "    </tr>\n",
       "  </tbody>\n",
       "</table>\n",
       "</div>"
      ],
      "text/plain": [
       "         ph    Hardness        Solids  Chloramines     Sulfate  Conductivity  \\\n",
       "0  7.036752  183.521107  20461.252710     7.333212  333.119476    356.369022   \n",
       "1  6.643159  188.913541  32873.820022     6.791509  333.848842    336.561501   \n",
       "2  7.846058  224.058877  23264.109968     5.922367  300.402620    387.971336   \n",
       "\n",
       "   Organic_carbon  Trihalomethanes  Turbidity  \n",
       "0       20.179029        67.019903   4.886634  \n",
       "1       14.706810        67.844849   4.562198  \n",
       "2       13.406737        43.075186   2.487969  "
      ]
     },
     "execution_count": 2,
     "metadata": {},
     "output_type": "execute_result"
    }
   ],
   "source": [
    "X_test.head(3)"
   ]
  },
  {
   "cell_type": "code",
   "execution_count": 3,
   "metadata": {
    "id": "QnQVUf2FdkwT"
   },
   "outputs": [],
   "source": [
    "import urllib.request\n",
    "import json      \n",
    "\n",
    "\n",
    "def get_prediction(x):\n",
    "    ph, Hardness, Solids, Chloramines, Sulfate, Conductivity, Organic_carbon, Trihalomethanes, Turbidity = x\n",
    "    body = {'ph': ph, \n",
    "            'Hardness': Hardness,\n",
    "            'Solids': Solids,\n",
    "            'Chloramines': Chloramines,\n",
    "            'Sulfate': Sulfate,\n",
    "            'Conductivity': Conductivity,\n",
    "            'Organic_carbon': Organic_carbon,\n",
    "            'Trihalomethanes': Trihalomethanes,\n",
    "            'Turbidity': Turbidity            \n",
    "            } \n",
    "\n",
    "    myurl = \"http://127.0.0.1:8180/predict\"\n",
    "    req = urllib.request.Request(myurl)\n",
    "    req.add_header('Content-Type', 'application/json; charset=utf-8')\n",
    "    jsondata = json.dumps(body)\n",
    "    jsondataasbytes = jsondata.encode('utf-8')   # needs to be bytes\n",
    "    req.add_header('Content-Length', len(jsondataasbytes))\n",
    "    #print (jsondataasbytes)\n",
    "    response = urllib.request.urlopen(req, jsondataasbytes)\n",
    "    return json.loads(response.read())['predictions']"
   ]
  },
  {
   "cell_type": "code",
   "execution_count": 4,
   "metadata": {
    "id": "azj9nkk_dkwU"
   },
   "outputs": [
    {
     "data": {
      "text/plain": [
       "0.6125735725650931"
      ]
     },
     "execution_count": 4,
     "metadata": {},
     "output_type": "execute_result"
    }
   ],
   "source": [
    "get_prediction((1,1,1,1, 1,1,1,1,1))"
   ]
  },
  {
   "cell_type": "code",
   "execution_count": 5,
   "metadata": {
    "id": "8yUAF1SEdkwU",
    "outputId": "5c59851c-8468-4667-8cf5-8a3b5effbee2"
   },
   "outputs": [
    {
     "name": "stdout",
     "output_type": "stream",
     "text": [
      "CPU times: total: 125 ms\n",
      "Wall time: 3.03 s\n"
     ]
    }
   ],
   "source": [
    "%%time\n",
    "predictions = X_test[['ph', 'Hardness', 'Solids', 'Chloramines', 'Sulfate', 'Conductivity',\n",
    "                      'Organic_carbon', 'Trihalomethanes', 'Turbidity']].iloc[:50].apply(lambda x: get_prediction(x), 1)"
   ]
  },
  {
   "cell_type": "code",
   "execution_count": 6,
   "metadata": {
    "id": "abFNlxbodkwV",
    "outputId": "91051c6c-6432-443c-f82b-96f80129f8f6"
   },
   "outputs": [
    {
     "data": {
      "text/plain": [
       "0     0.378211\n",
       "1     0.407732\n",
       "2     0.397690\n",
       "3     0.411362\n",
       "4     0.425370\n",
       "5     0.433751\n",
       "6     0.378900\n",
       "7     0.398248\n",
       "8     0.418447\n",
       "9     0.388675\n",
       "10    0.388139\n",
       "11    0.377384\n",
       "12    0.329672\n",
       "13    0.387090\n",
       "14    0.441052\n",
       "15    0.435928\n",
       "16    0.403073\n",
       "17    0.416983\n",
       "18    0.395173\n",
       "19    0.408448\n",
       "20    0.309404\n",
       "21    0.376525\n",
       "22    0.356187\n",
       "23    0.403872\n",
       "24    0.389628\n",
       "25    0.383714\n",
       "26    0.377001\n",
       "27    0.350791\n",
       "28    0.410914\n",
       "29    0.386571\n",
       "30    0.363571\n",
       "31    0.397974\n",
       "32    0.378237\n",
       "33    0.386354\n",
       "34    0.376829\n",
       "35    0.382383\n",
       "36    0.399972\n",
       "37    0.358006\n",
       "38    0.393843\n",
       "39    0.427985\n",
       "40    0.371957\n",
       "41    0.407113\n",
       "42    0.344778\n",
       "43    0.399163\n",
       "44    0.404309\n",
       "45    0.403071\n",
       "46    0.387294\n",
       "47    0.404960\n",
       "48    0.404282\n",
       "49    0.395606\n",
       "dtype: float64"
      ]
     },
     "execution_count": 6,
     "metadata": {},
     "output_type": "execute_result"
    }
   ],
   "source": [
    "predictions"
   ]
  },
  {
   "cell_type": "code",
   "execution_count": 7,
   "metadata": {
    "id": "DU45xFSVdkwW",
    "outputId": "97458170-3904-4330-eb79-cb27418302db"
   },
   "outputs": [
    {
     "data": {
      "text/plain": [
       "0.625"
      ]
     },
     "execution_count": 7,
     "metadata": {},
     "output_type": "execute_result"
    }
   ],
   "source": [
    "roc_auc_score(y_score=predictions.values, y_true=y_test.iloc[:50])"
   ]
  },
  {
   "cell_type": "code",
   "execution_count": null,
   "metadata": {},
   "outputs": [],
   "source": []
  }
 ],
 "metadata": {
  "colab": {
   "name": "Step3_predict_api_integration.ipynb",
   "provenance": []
  },
  "kernelspec": {
   "display_name": "Python 3 (ipykernel)",
   "language": "python",
   "name": "python3"
  },
  "language_info": {
   "codemirror_mode": {
    "name": "ipython",
    "version": 3
   },
   "file_extension": ".py",
   "mimetype": "text/x-python",
   "name": "python",
   "nbconvert_exporter": "python",
   "pygments_lexer": "ipython3",
   "version": "3.10.5"
  }
 },
 "nbformat": 4,
 "nbformat_minor": 1
}
